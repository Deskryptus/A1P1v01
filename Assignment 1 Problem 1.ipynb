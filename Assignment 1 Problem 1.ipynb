{
 "cells": [
  {
   "cell_type": "code",
   "execution_count": 73,
   "metadata": {
    "collapsed": false
   },
   "outputs": [
    {
     "name": "stdout",
     "output_type": "stream",
     "text": [
      "test\n"
     ]
    }
   ],
   "source": [
    "def letters_only(word):\n",
    "    l=word[len(word)-1]\n",
    "    while not((l>='a' and l<='z')or(l>='A'and l<='Z')):\n",
    "        word=word.strip(l)\n",
    "        l=word[len(word)-1]\n",
    "    return word\n",
    "\n",
    "word=\"test!!!!!#///#\"\n",
    "print(letters_only(word))"
   ]
  },
  {
   "cell_type": "code",
   "execution_count": 74,
   "metadata": {
    "collapsed": false
   },
   "outputs": [
    {
     "name": "stdout",
     "output_type": "stream",
     "text": [
      "{'said': 1, '\"go': 1, 'home': 1, 'john': 1, 'didnt': 1, 'he': 1}\n"
     ]
    }
   ],
   "source": [
    "def word_distribution(sentence):\n",
    "    dico={}\n",
    "    list_words=sentence.split()\n",
    "    for i in range(len(list_words)):\n",
    "        word=list_words[i].lower()\n",
    "        word=letters_only(word)\n",
    "        if word in dico:\n",
    "            dico[word]=dico[word]+1\n",
    "        else:\n",
    "             dico[word]=1\n",
    "    return dico\n",
    "\n",
    "sentence='\"John\" said \"go home\", didnt he?'\n",
    "#sentence=\"hello Hello hello! hello!!!!\"\n",
    "\n",
    "print(word_distribution(sentence))\n",
    "#print (sentence.split())"
   ]
  }
 ],
 "metadata": {
  "anaconda-cloud": {},
  "kernelspec": {
   "display_name": "Python [default]",
   "language": "python",
   "name": "python3"
  },
  "language_info": {
   "codemirror_mode": {
    "name": "ipython",
    "version": 3
   },
   "file_extension": ".py",
   "mimetype": "text/x-python",
   "name": "python",
   "nbconvert_exporter": "python",
   "pygments_lexer": "ipython3",
   "version": "3.5.2"
  }
 },
 "nbformat": 4,
 "nbformat_minor": 1
}
