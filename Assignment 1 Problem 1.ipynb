{
 "cells": [
  {
   "cell_type": "code",
   "execution_count": 82,
   "metadata": {
    "collapsed": false
   },
   "outputs": [
    {
     "name": "stdout",
     "output_type": "stream",
     "text": [
      "{'said': 1, '\"go': 1, 'home': 1, 'john': 1, 'didnt': 1, 'he': 1}\n"
     ]
    }
   ],
   "source": [
    "def word_distribution(sentence):\n",
    "    dico={}\n",
    "    list_words=sentence.split()\n",
    "    for i in range(len(list_words)):\n",
    "        word=list_words[i].lower()\n",
    "        word=letters_only(word)\n",
    "        if word in dico:\n",
    "            dico[word]=dico[word]+1\n",
    "        else:\n",
    "             dico[word]=1\n",
    "    return dico\n",
    "\n",
    "sentence='\"John\" said \"go home\", didnt he?'\n",
    "#sentence=\"hello Hello hello! hello!!!!\"\n",
    "\n",
    "print(word_distribution(sentence))\n",
    "#print (sentence.split())"
   ]
  },
  {
   "cell_type": "code",
   "execution_count": 115,
   "metadata": {
    "collapsed": false
   },
   "outputs": [
    {
     "name": "stdout",
     "output_type": "stream",
     "text": [
      "{'said': 1, '\"go': 3, 'home': 1, 'john': 2, 'didnt': 1, 'he': 1}\n"
     ]
    }
   ],
   "source": [
    "def sorting(dico):\n",
    "    return dico\n",
    "\n",
    "dico={'said': 1, '\"go': 3, 'home': 1, 'john': 2, 'didnt': 1, 'he': 1}\n",
    "print(sorting(dico))\n"
   ]
  },
  {
   "cell_type": "code",
   "execution_count": 112,
   "metadata": {
    "collapsed": false,
    "scrolled": true
   },
   "outputs": [],
   "source": [
    "def word_distribution(sentence,word_list=None):\n",
    "    #intitialization\n",
    "    dico={}\n",
    "    sentence=sentence.lower()\n",
    "    if word_list==None:\n",
    "        word_list=sentence.split()\n",
    "        \n",
    "    for i in range(len(word_list)):\n",
    "        word=letters_only(word_list[i].lower())\n",
    "        dico[word]=sentence.count(word)\n",
    "        \n",
    "    return dico\n"
   ]
  },
  {
   "cell_type": "code",
   "execution_count": 114,
   "metadata": {
    "collapsed": false
   },
   "outputs": [
    {
     "name": "stdout",
     "output_type": "stream",
     "text": [
      "{'he': 2, 'john': 1, 'go': 1, 'redemption': 0}\n"
     ]
    }
   ],
   "source": [
    "sentence='\"John\" said \"go?> home\", didnt he? Yes, he did'\n",
    "print(word_distribution(sentence,[\"John\", \"he\", \"go\", \"redemption\"]))"
   ]
  }
 ],
 "metadata": {
  "anaconda-cloud": {},
  "kernelspec": {
   "display_name": "Python [default]",
   "language": "python",
   "name": "python3"
  },
  "language_info": {
   "codemirror_mode": {
    "name": "ipython",
    "version": 3
   },
   "file_extension": ".py",
   "mimetype": "text/x-python",
   "name": "python",
   "nbconvert_exporter": "python",
   "pygments_lexer": "ipython3",
   "version": "3.5.2"
  }
 },
 "nbformat": 4,
 "nbformat_minor": 1
}
