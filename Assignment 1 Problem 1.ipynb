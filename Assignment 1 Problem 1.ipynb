{
 "cells": [
  {
   "cell_type": "code",
   "execution_count": 126,
   "metadata": {
    "collapsed": true
   },
   "outputs": [],
   "source": [
    "from operator import itemgetter"
   ]
  },
  {
   "cell_type": "code",
   "execution_count": 127,
   "metadata": {
    "collapsed": true
   },
   "outputs": [],
   "source": [
    "def letters_only(word):\n",
    "    l=word[len(word)-1]\n",
    "    while not((l>='a' and l<='z')or(l>='A'and l<='Z')):\n",
    "        word=word.strip(l)\n",
    "        l=word[len(word)-1]\n",
    "    return word"
   ]
  },
  {
   "cell_type": "code",
   "execution_count": 132,
   "metadata": {
    "collapsed": false,
    "scrolled": true
   },
   "outputs": [],
   "source": [
    "def word_distribution(sentence,word_list=None):\n",
    "    #intitialization\n",
    "    dico={}\n",
    "    sentence=sentence.lower()\n",
    "    if word_list==None:\n",
    "        word_list=sentence.split()\n",
    "        \n",
    "    for i in range(len(word_list)):\n",
    "        word=letters_only(word_list[i].lower())\n",
    "        dico[word]=sentence.count(word)\n",
    "        \n",
    "    return sorted(dico.items(),key=itemgetter(1),reverse=True)"
   ]
  },
  {
   "cell_type": "code",
   "execution_count": 136,
   "metadata": {
    "collapsed": false
   },
   "outputs": [
    {
     "name": "stdout",
     "output_type": "stream",
     "text": [
      "[('john', 3), ('he', 2), ('go', 1), ('redemption', 0)]\n"
     ]
    }
   ],
   "source": [
    "sentence='\"John  john\" said \"go?> john home\", didnt he? Yes, he did'\n",
    "print(word_distribution(sentence,[\"John\", \"he\", \"go\", \"redemption\"]))"
   ]
  }
 ],
 "metadata": {
  "anaconda-cloud": {},
  "kernelspec": {
   "display_name": "Python [default]",
   "language": "python",
   "name": "python3"
  },
  "language_info": {
   "codemirror_mode": {
    "name": "ipython",
    "version": 3
   },
   "file_extension": ".py",
   "mimetype": "text/x-python",
   "name": "python",
   "nbconvert_exporter": "python",
   "pygments_lexer": "ipython3",
   "version": "3.5.2"
  }
 },
 "nbformat": 4,
 "nbformat_minor": 1
}
